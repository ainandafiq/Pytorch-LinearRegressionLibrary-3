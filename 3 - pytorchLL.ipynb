{
 "cells": [
  {
   "cell_type": "code",
   "execution_count": 22,
   "id": "2935f8c5",
   "metadata": {},
   "outputs": [],
   "source": [
    "import numpy as np\n",
    "import torch\n",
    "import torch.nn as nn\n",
    "\n",
    "from torch.utils.data import TensorDataset\n",
    "from torch.utils.data import DataLoader\n",
    "import torch.nn.functional as F"
   ]
  },
  {
   "cell_type": "markdown",
   "id": "fa16669b",
   "metadata": {},
   "source": [
    "siapkan fitur dan target, jangan lupa ubah ke tensor"
   ]
  },
  {
   "cell_type": "code",
   "execution_count": 2,
   "id": "a40f682a",
   "metadata": {},
   "outputs": [],
   "source": [
    "# Input (temp, rainfall, humidity)\n",
    "inputs = np.array([[73, 67, 43], \n",
    "                   [91, 88, 64], \n",
    "                   [87, 134, 58], \n",
    "                   [102, 43, 37], \n",
    "                   [69, 96, 70], \n",
    "                   [74, 66, 43], \n",
    "                   [91, 87, 65], \n",
    "                   [88, 134, 59], \n",
    "                   [101, 44, 37], \n",
    "                   [68, 96, 71], \n",
    "                   [73, 66, 44], \n",
    "                   [92, 87, 64], \n",
    "                   [87, 135, 57], \n",
    "                   [103, 43, 36], \n",
    "                   [68, 97, 70]], \n",
    "                  dtype='float32')\n",
    "\n",
    "# Targets (apples, oranges)\n",
    "targets = np.array([[56, 70], \n",
    "                    [81, 101], \n",
    "                    [119, 133], \n",
    "                    [22, 37], \n",
    "                    [103, 119],\n",
    "                    [57, 69], \n",
    "                    [80, 102], \n",
    "                    [118, 132], \n",
    "                    [21, 38], \n",
    "                    [104, 118], \n",
    "                    [57, 69], \n",
    "                    [82, 100], \n",
    "                    [118, 134], \n",
    "                    [20, 38], \n",
    "                    [102, 120]], \n",
    "                   dtype='float32')\n",
    "\n",
    "inputs = torch.from_numpy(inputs)\n",
    "targets = torch.from_numpy(targets)"
   ]
  },
  {
   "cell_type": "markdown",
   "id": "02fd4dec",
   "metadata": {},
   "source": [
    "fungsi library TensorDataset adalah agar dapat mengakses baris dari inputs dan targets sebagai tuples. Juga menyediakan\n",
    "standard API yang dapat digunakan di banyak jenis dataset dalam pytorch"
   ]
  },
  {
   "cell_type": "code",
   "execution_count": 6,
   "id": "b95e40a1",
   "metadata": {},
   "outputs": [
    {
     "data": {
      "text/plain": [
       "(tensor([[ 73.,  67.,  43.],\n",
       "         [ 91.,  88.,  64.],\n",
       "         [ 87., 134.,  58.]]),\n",
       " tensor([[ 56.,  70.],\n",
       "         [ 81., 101.],\n",
       "         [119., 133.]]))"
      ]
     },
     "execution_count": 6,
     "metadata": {},
     "output_type": "execute_result"
    }
   ],
   "source": [
    "# definisikan dataset\n",
    "train_ds = TensorDataset(inputs, targets)\n",
    "# ambil 3 baris pertama dari dataset\n",
    "train_ds[0:3]"
   ]
  },
  {
   "cell_type": "markdown",
   "id": "52b5478c",
   "metadata": {},
   "source": [
    "fungsi library DataLoader adalah untuk memisahkan data menjadi beberapa bagian dengan besaran porsi yang telah ditentukan. Dapat digunakan untuk memisahkan antara data latih dengan data uji"
   ]
  },
  {
   "cell_type": "code",
   "execution_count": 11,
   "id": "8f9ac1ff",
   "metadata": {},
   "outputs": [],
   "source": [
    "# definisikan data loader\n",
    "batch_size = 5\n",
    "# ukuran data yang dipisahkan adalah 5\n",
    "train_dl = DataLoader(train_ds, batch_size, shuffle=True)"
   ]
  },
  {
   "cell_type": "code",
   "execution_count": 12,
   "id": "5c4fba5e",
   "metadata": {},
   "outputs": [
    {
     "name": "stdout",
     "output_type": "stream",
     "text": [
      "tensor([[ 87., 134.,  58.],\n",
      "        [103.,  43.,  36.],\n",
      "        [ 73.,  67.,  43.],\n",
      "        [ 92.,  87.,  64.],\n",
      "        [ 91.,  88.,  64.]])\n",
      "tensor([[119., 133.],\n",
      "        [ 20.,  38.],\n",
      "        [ 56.,  70.],\n",
      "        [ 82., 100.],\n",
      "        [ 81., 101.]])\n"
     ]
    }
   ],
   "source": [
    "# intip isi train_dl\n",
    "for xb, yb in train_dl :\n",
    "    print(xb)\n",
    "    print(yb)\n",
    "    break"
   ]
  },
  {
   "cell_type": "markdown",
   "id": "0eaa71e8",
   "metadata": {},
   "source": [
    "selanjutnya, daripada menginisialisasikan weight dan bias. Disini pakai nn.Linear untuk memodelkan linear regression secara otomatis"
   ]
  },
  {
   "cell_type": "code",
   "execution_count": 16,
   "id": "44762e5d",
   "metadata": {},
   "outputs": [
    {
     "name": "stdout",
     "output_type": "stream",
     "text": [
      "Parameter containing:\n",
      "tensor([[-0.4304, -0.3432,  0.4476],\n",
      "        [ 0.2356, -0.3945,  0.1522]], requires_grad=True)\n",
      "Parameter containing:\n",
      "tensor([0.5332, 0.2782], requires_grad=True)\n"
     ]
    }
   ],
   "source": [
    "# definisikan model\n",
    "model = nn.Linear(3,2)\n",
    "# 3 berarti jumlah fitur yang menjadi input adalah 3\n",
    "# 2 berarti jumlah target\n",
    "\n",
    "print(model.weight)\n",
    "print(model.bias)"
   ]
  },
  {
   "cell_type": "code",
   "execution_count": 18,
   "id": "4e4f093a",
   "metadata": {},
   "outputs": [
    {
     "data": {
      "text/plain": [
       "<bound method Module.parameters of Linear(in_features=3, out_features=2, bias=True)>"
      ]
     },
     "execution_count": 18,
     "metadata": {},
     "output_type": "execute_result"
    }
   ],
   "source": [
    "# intip parameter sebuah model\n",
    "model.parameters"
   ]
  },
  {
   "cell_type": "code",
   "execution_count": 19,
   "id": "1c813c82",
   "metadata": {},
   "outputs": [
    {
     "data": {
      "text/plain": [
       "[Parameter containing:\n",
       " tensor([[-0.4304, -0.3432,  0.4476],\n",
       "         [ 0.2356, -0.3945,  0.1522]], requires_grad=True),\n",
       " Parameter containing:\n",
       " tensor([0.5332, 0.2782], requires_grad=True)]"
      ]
     },
     "execution_count": 19,
     "metadata": {},
     "output_type": "execute_result"
    }
   ],
   "source": [
    "# list parameter buat liat weight dan bias\n",
    "list(model.parameters())"
   ]
  },
  {
   "cell_type": "code",
   "execution_count": 20,
   "id": "f3c1da52",
   "metadata": {},
   "outputs": [
    {
     "data": {
      "text/plain": [
       "tensor([[-34.6304,  -2.4147],\n",
       "        [-40.1843,  -3.2635],\n",
       "        [-56.9356, -23.2682],\n",
       "        [-41.5599,  12.9726],\n",
       "        [-30.7762, -10.6892],\n",
       "        [-34.7176,  -1.7846],\n",
       "        [-39.3935,  -2.7168],\n",
       "        [-56.9183, -22.8804],\n",
       "        [-41.4728,  12.3425],\n",
       "        [-29.8983, -10.7725],\n",
       "        [-33.8396,  -1.8680],\n",
       "        [-40.2715,  -2.6334],\n",
       "        [-57.7264, -23.8149],\n",
       "        [-42.4379,  13.0559],\n",
       "        [-30.6891, -11.3193]], grad_fn=<AddmmBackward0>)"
      ]
     },
     "execution_count": 20,
     "metadata": {},
     "output_type": "execute_result"
    }
   ],
   "source": [
    "# cara lakukan prediksi\n",
    "preds = model(inputs)\n",
    "preds"
   ]
  },
  {
   "cell_type": "markdown",
   "id": "466691ee",
   "metadata": {},
   "source": [
    "## Loss Function\n",
    "pakai library torch.nn.functional untuk dapetin loss function"
   ]
  },
  {
   "cell_type": "code",
   "execution_count": 23,
   "id": "70d875a5",
   "metadata": {},
   "outputs": [],
   "source": [
    "# definisikan loss function\n",
    "loss_fn = F.mse_loss"
   ]
  },
  {
   "cell_type": "markdown",
   "id": "619944f5",
   "metadata": {},
   "source": [
    "hitung loss dari prediksi dengan model sebelumnya"
   ]
  },
  {
   "cell_type": "code",
   "execution_count": 24,
   "id": "76baaa98",
   "metadata": {},
   "outputs": [
    {
     "name": "stdout",
     "output_type": "stream",
     "text": [
      "tensor(13331.1572, grad_fn=<MseLossBackward0>)\n"
     ]
    }
   ],
   "source": [
    "# preds = model(inputs)\n",
    "loss = loss_fn(model(inputs), targets)\n",
    "print(loss)"
   ]
  },
  {
   "cell_type": "markdown",
   "id": "df717741",
   "metadata": {},
   "source": [
    "bisa dilihat bahwa mse masih sangat besar"
   ]
  },
  {
   "cell_type": "code",
   "execution_count": 25,
   "id": "40142269",
   "metadata": {},
   "outputs": [],
   "source": [
    "# untuk tau asal muasal dan fungsi dari F.mse_Loss\n",
    "?F.mse_loss"
   ]
  },
  {
   "cell_type": "markdown",
   "id": "e5583a5d",
   "metadata": {},
   "source": [
    "## Optimizer\n",
    "Di bab sebelumnya, kita memanipulasi weigth dan bias pada model menggunakan gradient. Namun sekarang cukup menggunakan optimizer optim.SGD. SGD artinya adalah Stochastic Gradient Descent. Dinamakan Stohastic karena sampel dipilih dalam sebagian porsi (biasanya random), bukan berupa sebuah grup"
   ]
  },
  {
   "cell_type": "code",
   "execution_count": 26,
   "id": "e8659afc",
   "metadata": {},
   "outputs": [],
   "source": [
    "# definisikan optimizer\n",
    "opt = torch.optim.SGD(model.parameters(),lr=1e-5)"
   ]
  },
  {
   "cell_type": "markdown",
   "id": "4051b86d",
   "metadata": {},
   "source": [
    "model.parameter harus diberikan kepada optimizer, agar optimizer tahu matrix mana yang harus dimodifikasi. Juga kita dapat mendefinisikan learning rate (lr) yang akan mengontrol seberapa besar modifikasi parameter yang akan dilakukan"
   ]
  },
  {
   "cell_type": "markdown",
   "id": "acd732af",
   "metadata": {},
   "source": [
    "## Melakukan Pelatihan Model\n",
    "Setelah mendapatkan model dan optimizer. Sekarang waktunya melakukan training data. Adapun step-step nya seperti ini :\n",
    "1. melakukan prediksi\n",
    "2. hitung loss\n",
    "3. hitung gradient w.r.t serta weight dan bias\n",
    "4. mengatur ulang weight dengan cara menguranginya dengan sedikit nilai\n",
    "5. reset gradient ke 0\n",
    "\n",
    "bedanya adalah, disini hanya memakai sebagian data, bukan keseluruhan data dalam tiap iterasi. Pakai fungsi fit untuk melakukan train pada model sebanyak epoch yang telah ditentukan"
   ]
  },
  {
   "cell_type": "code",
   "execution_count": 58,
   "id": "372fbe7a",
   "metadata": {},
   "outputs": [],
   "source": [
    "# utility function untuk train model\n",
    "def fit(num_epochs, model, loss_fn, opt, train_dl) :\n",
    "    \n",
    "    #ulangi sebanyak angka yang diberikan\n",
    "    for epoch in range(num_epochs) :\n",
    "        \n",
    "        #lakukan train batch data\n",
    "        for xb,yb in train_dl :\n",
    "        \n",
    "            #1. lakukan prediksi\n",
    "            pred = model(xb)\n",
    "        \n",
    "            #2. hitung loss\n",
    "            loss = loss_fn(pred, yb)\n",
    "        \n",
    "            #3. hitung gradient\n",
    "            loss.backward()\n",
    "        \n",
    "            #4. atur ulang parameter weight pakai gradient\n",
    "            opt.step()\n",
    "        \n",
    "            #5. reset gradient ke 0\n",
    "            opt.zero_grad()\n",
    "        \n",
    "        #print progress\n",
    "        if (epoch+1) % 10 == 0 :\n",
    "            print('Epoch[{}/{}], Loss: {:.4f}'.format(epoch+1, num_epochs, loss.item()))"
   ]
  },
  {
   "cell_type": "code",
   "execution_count": 59,
   "id": "8d27abb3",
   "metadata": {},
   "outputs": [
    {
     "name": "stdout",
     "output_type": "stream",
     "text": [
      "Epoch[10/100], Loss: 1037.7046\n",
      "Epoch[20/100], Loss: 243.4281\n",
      "Epoch[30/100], Loss: 251.7603\n",
      "Epoch[40/100], Loss: 205.2507\n",
      "Epoch[50/100], Loss: 109.1266\n",
      "Epoch[60/100], Loss: 90.6197\n",
      "Epoch[70/100], Loss: 74.5982\n",
      "Epoch[80/100], Loss: 95.3650\n",
      "Epoch[90/100], Loss: 47.0768\n",
      "Epoch[100/100], Loss: 24.0847\n"
     ]
    }
   ],
   "source": [
    "fit(100, model, loss_fn, opt, train_dl)"
   ]
  },
  {
   "cell_type": "code",
   "execution_count": 60,
   "id": "1c8df790",
   "metadata": {},
   "outputs": [
    {
     "data": {
      "text/plain": [
       "tensor([[ 58.4197,  71.8489],\n",
       "        [ 82.7211, 100.8026],\n",
       "        [114.5305, 130.0701],\n",
       "        [ 28.5758,  45.6674],\n",
       "        [ 98.6219, 114.3873],\n",
       "        [ 57.3937,  70.9816],\n",
       "        [ 82.6111, 100.8532],\n",
       "        [114.8972, 130.7035],\n",
       "        [ 29.6017,  46.5347],\n",
       "        [ 99.5379, 115.3053],\n",
       "        [ 58.3098,  71.8996],\n",
       "        [ 81.6951,  99.9353],\n",
       "        [114.6405, 130.0195],\n",
       "        [ 27.6598,  44.7494],\n",
       "        [ 99.6478, 115.2547]], grad_fn=<AddmmBackward0>)"
      ]
     },
     "execution_count": 60,
     "metadata": {},
     "output_type": "execute_result"
    }
   ],
   "source": [
    "preds = model(inputs)\n",
    "preds"
   ]
  },
  {
   "cell_type": "code",
   "execution_count": 61,
   "id": "0f4e77d1",
   "metadata": {},
   "outputs": [
    {
     "data": {
      "text/plain": [
       "tensor([[ 56.,  70.],\n",
       "        [ 81., 101.],\n",
       "        [119., 133.],\n",
       "        [ 22.,  37.],\n",
       "        [103., 119.],\n",
       "        [ 57.,  69.],\n",
       "        [ 80., 102.],\n",
       "        [118., 132.],\n",
       "        [ 21.,  38.],\n",
       "        [104., 118.],\n",
       "        [ 57.,  69.],\n",
       "        [ 82., 100.],\n",
       "        [118., 134.],\n",
       "        [ 20.,  38.],\n",
       "        [102., 120.]])"
      ]
     },
     "execution_count": 61,
     "metadata": {},
     "output_type": "execute_result"
    }
   ],
   "source": [
    "targets"
   ]
  },
  {
   "cell_type": "markdown",
   "id": "b5ca177c",
   "metadata": {},
   "source": [
    "Dapat dilihat bahwa setelah dilakukan training sebanyak 100 kali, terdapat perubahan signifikan pada mse. selisih antara prediksi dengan target juga tidak terlalu berbeda jauh"
   ]
  },
  {
   "cell_type": "code",
   "execution_count": null,
   "id": "46181c86",
   "metadata": {},
   "outputs": [],
   "source": []
  }
 ],
 "metadata": {
  "kernelspec": {
   "display_name": "Python 3 (ipykernel)",
   "language": "python",
   "name": "python3"
  },
  "language_info": {
   "codemirror_mode": {
    "name": "ipython",
    "version": 3
   },
   "file_extension": ".py",
   "mimetype": "text/x-python",
   "name": "python",
   "nbconvert_exporter": "python",
   "pygments_lexer": "ipython3",
   "version": "3.9.7"
  }
 },
 "nbformat": 4,
 "nbformat_minor": 5
}
